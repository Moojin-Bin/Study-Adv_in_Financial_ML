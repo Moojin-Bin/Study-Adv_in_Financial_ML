{
  "nbformat": 4,
  "nbformat_minor": 0,
  "metadata": {
    "colab": {
      "name": "SNIPPET 4.3-4.6.ipynb",
      "provenance": [],
      "collapsed_sections": [],
      "authorship_tag": "ABX9TyOqcW5PzM5BAeaZ5rZFpLCv",
      "include_colab_link": true
    },
    "kernelspec": {
      "name": "python3",
      "display_name": "Python 3"
    }
  },
  "cells": [
    {
      "cell_type": "markdown",
      "metadata": {
        "id": "view-in-github",
        "colab_type": "text"
      },
      "source": [
        "<a href=\"https://colab.research.google.com/github/Moojin-Bin/Study-Adv_in_Financial_ML/blob/master/SNIPPET_4_3_4_6.ipynb\" target=\"_parent\"><img src=\"https://colab.research.google.com/assets/colab-badge.svg\" alt=\"Open In Colab\"/></a>"
      ]
    },
    {
      "cell_type": "markdown",
      "metadata": {
        "id": "t0nM1v8aswTd",
        "colab_type": "text"
      },
      "source": [
        "## Chapter 4 ##\n",
        "### 4.5.1 - Sequential Bootstrap ###"
      ]
    },
    {
      "cell_type": "markdown",
      "metadata": {
        "id": "9ZHbSaHUtHTS",
        "colab_type": "text"
      },
      "source": [
        "\n",
        "Let us assign a label $y_{i}$ to an observed feature $X_{i}$, where $y_{i}$ is a function of price bars that occurred over an interval $[t_{i, 0}, t_{i, 1}]$.\n",
        "Two labels $y_i$ and $y_j$ are concurrent at $t$ when both are a function of at least one common return, $r_{t-1, t} = {{p_t} \\over {p_{t-1}}} -1$.\n",
        "<br>\n",
        "<br>\n",
        "For each time point $t=1, ..., T$, we form a binary arrays, $\\{1_{t, i}\\}_{i=1, ..., I}$, where $1_{t, i} \\in \\{0, 1\\}$. Variable $1_{t, i} = 1$ if and only if $[t_{i,0}, t_{i, 1}]$ overlaps with $[t-1, t]$ and $1_{t, i}=0$ otherwise. We compute the number of labels concurrent at $t, c_t = \\sum_{i=1}^{I} 1_{t, i}$.\n",
        "<br>\n",
        "<br>\n",
        "The uniqueness of a label $i$ at time $t$ is $u_{t, i}=$ ${1_{t, i}}\\over{c_t}$."
      ]
    },
    {
      "cell_type": "markdown",
      "metadata": {
        "id": "vXvOSavk6QRj",
        "colab_type": "text"
      },
      "source": [
        "\n",
        "**Example**\n",
        "<br>\n",
        "Consider a set of labels ${\\{y_i\\}}_{i=1,2,3}$, where label $y_1$ is a function of return $r_{0, 3}$, label $y_2$ is a function of return $r_{2,4}$ and label $y_3$ is a function of return $r_{4,6}$. Note that $y_{1}$ and $y_{2}$ are overlapping between $t=[2, 3]$."
      ]
    },
    {
      "cell_type": "code",
      "metadata": {
        "id": "qcXtA-NytFES",
        "colab_type": "code",
        "colab": {}
      },
      "source": [
        "import pandas as pd\n",
        "t1 = pd.Series([2,3,5], index=[0,2,4])    # t0, t1 for each feature obs"
      ],
      "execution_count": 16,
      "outputs": []
    },
    {
      "cell_type": "code",
      "metadata": {
        "id": "CVwy4u1mtJVC",
        "colab_type": "code",
        "colab": {
          "base_uri": "https://localhost:8080/",
          "height": 87
        },
        "outputId": "eecbdd2a-b8a6-4d8d-f53f-760bb937c56a"
      },
      "source": [
        "t1"
      ],
      "execution_count": 8,
      "outputs": [
        {
          "output_type": "execute_result",
          "data": {
            "text/plain": [
              "0    2\n",
              "2    3\n",
              "4    5\n",
              "dtype: int64"
            ]
          },
          "metadata": {
            "tags": []
          },
          "execution_count": 8
        }
      ]
    },
    {
      "cell_type": "markdown",
      "metadata": {
        "id": "xjgbmz6gvyTh",
        "colab_type": "text"
      },
      "source": [
        "Build an Indicator matrix."
      ]
    },
    {
      "cell_type": "code",
      "metadata": {
        "id": "zh9zIzfZttFd",
        "colab_type": "code",
        "colab": {}
      },
      "source": [
        "def getIdxMatrix(barIx, t1):\n",
        "    indM = pd.DataFrame(0, index=barIx, columns = range(t1.shape[0]))\n",
        "    for i, (t0, t1) in enumerate(t1.iteritems()):\n",
        "        indM.loc[t0:t1, i] = 1\n",
        "    return indM"
      ],
      "execution_count": 40,
      "outputs": []
    },
    {
      "cell_type": "code",
      "metadata": {
        "id": "W181y3LTwAYJ",
        "colab_type": "code",
        "colab": {
          "base_uri": "https://localhost:8080/",
          "height": 225
        },
        "outputId": "0fecbbff-900a-4eb7-a689-4f321ecaa7c5"
      },
      "source": [
        "barIx = range(t1.max()+1)\n",
        "indM = getIdxMatrix(barIx, t1)\n",
        "indM"
      ],
      "execution_count": 41,
      "outputs": [
        {
          "output_type": "execute_result",
          "data": {
            "text/html": [
              "<div>\n",
              "<style scoped>\n",
              "    .dataframe tbody tr th:only-of-type {\n",
              "        vertical-align: middle;\n",
              "    }\n",
              "\n",
              "    .dataframe tbody tr th {\n",
              "        vertical-align: top;\n",
              "    }\n",
              "\n",
              "    .dataframe thead th {\n",
              "        text-align: right;\n",
              "    }\n",
              "</style>\n",
              "<table border=\"1\" class=\"dataframe\">\n",
              "  <thead>\n",
              "    <tr style=\"text-align: right;\">\n",
              "      <th></th>\n",
              "      <th>0</th>\n",
              "      <th>1</th>\n",
              "      <th>2</th>\n",
              "    </tr>\n",
              "  </thead>\n",
              "  <tbody>\n",
              "    <tr>\n",
              "      <th>0</th>\n",
              "      <td>1</td>\n",
              "      <td>0</td>\n",
              "      <td>0</td>\n",
              "    </tr>\n",
              "    <tr>\n",
              "      <th>1</th>\n",
              "      <td>1</td>\n",
              "      <td>0</td>\n",
              "      <td>0</td>\n",
              "    </tr>\n",
              "    <tr>\n",
              "      <th>2</th>\n",
              "      <td>1</td>\n",
              "      <td>1</td>\n",
              "      <td>0</td>\n",
              "    </tr>\n",
              "    <tr>\n",
              "      <th>3</th>\n",
              "      <td>0</td>\n",
              "      <td>1</td>\n",
              "      <td>0</td>\n",
              "    </tr>\n",
              "    <tr>\n",
              "      <th>4</th>\n",
              "      <td>0</td>\n",
              "      <td>0</td>\n",
              "      <td>1</td>\n",
              "    </tr>\n",
              "    <tr>\n",
              "      <th>5</th>\n",
              "      <td>0</td>\n",
              "      <td>0</td>\n",
              "      <td>1</td>\n",
              "    </tr>\n",
              "  </tbody>\n",
              "</table>\n",
              "</div>"
            ],
            "text/plain": [
              "   0  1  2\n",
              "0  1  0  0\n",
              "1  1  0  0\n",
              "2  1  1  0\n",
              "3  0  1  0\n",
              "4  0  0  1\n",
              "5  0  0  1"
            ]
          },
          "metadata": {
            "tags": []
          },
          "execution_count": 41
        }
      ]
    },
    {
      "cell_type": "markdown",
      "metadata": {
        "id": "g3NoYRAL8DcY",
        "colab_type": "text"
      },
      "source": [
        "Compuete the uniqueness of labels, $u_{t, i}$ and the number of labels concurrent at time $t$, $c_{t}$"
      ]
    },
    {
      "cell_type": "code",
      "metadata": {
        "id": "EiycH5j38HPV",
        "colab_type": "code",
        "colab": {
          "base_uri": "https://localhost:8080/",
          "height": 474
        },
        "outputId": "e6c928a2-cde3-40b9-a7a4-68db63b52d05"
      },
      "source": [
        "c = indM.sum(axis=1)\n",
        "print('the number of labels concurrent at time t, c')\n",
        "print(c)\n",
        "print()\n",
        "\n",
        "u = indM.div(c, axis=0)\n",
        "print('Indicator matrix, indM')\n",
        "print(indM)\n",
        "print()\n",
        "print('the uniqueness of labels(= IndM / c)')\n",
        "print(u)"
      ],
      "execution_count": 46,
      "outputs": [
        {
          "output_type": "stream",
          "text": [
            "the number of labels concurrent at time t, c\n",
            "0    1\n",
            "1    1\n",
            "2    2\n",
            "3    1\n",
            "4    1\n",
            "5    1\n",
            "dtype: int64\n",
            "\n",
            "Indicator matrix, indM\n",
            "   0  1  2\n",
            "0  1  0  0\n",
            "1  1  0  0\n",
            "2  1  1  0\n",
            "3  0  1  0\n",
            "4  0  0  1\n",
            "5  0  0  1\n",
            "\n",
            "the uniqueness of labels(= IndM / c)\n",
            "     0    1    2\n",
            "0  1.0  0.0  0.0\n",
            "1  1.0  0.0  0.0\n",
            "2  0.5  0.5  0.0\n",
            "3  0.0  1.0  0.0\n",
            "4  0.0  0.0  1.0\n",
            "5  0.0  0.0  1.0\n"
          ],
          "name": "stdout"
        }
      ]
    },
    {
      "cell_type": "markdown",
      "metadata": {
        "id": "I-PUkyskEUj9",
        "colab_type": "text"
      },
      "source": [
        "The average uniqueness of label $i$ is the average $u_{t, i}$ over the label's lifespan, \n",
        "$$\n",
        " \\bar{u_i}= {{\\sum_{t=1}^T u_{t, i}} \\over {\\sum_{t=1}^T 1_{t, i}}}$$."
      ]
    },
    {
      "cell_type": "code",
      "metadata": {
        "id": "rxB4SZQyET7w",
        "colab_type": "code",
        "colab": {}
      },
      "source": [
        "def getAvgUniqueness(indM):\n",
        "    c = indM.sum(axis=1)\n",
        "    u = indM.div(c, axis=0)\n",
        "    avgU = u[u>0].mean()\n",
        "    return avgU"
      ],
      "execution_count": 50,
      "outputs": []
    },
    {
      "cell_type": "code",
      "metadata": {
        "id": "NviOAV-FEXC5",
        "colab_type": "code",
        "colab": {
          "base_uri": "https://localhost:8080/",
          "height": 87
        },
        "outputId": "9c782edd-3e75-4ae8-e5f4-84647c1775b4"
      },
      "source": [
        "getAvgUniqueness(indM)"
      ],
      "execution_count": 51,
      "outputs": [
        {
          "output_type": "execute_result",
          "data": {
            "text/plain": [
              "0    0.833333\n",
              "1    0.750000\n",
              "2    1.000000\n",
              "dtype: float64"
            ]
          },
          "metadata": {
            "tags": []
          },
          "execution_count": 51
        }
      ]
    },
    {
      "cell_type": "markdown",
      "metadata": {
        "id": "kYc1nFIj-wqh",
        "colab_type": "text"
      },
      "source": [
        "Let us denote as $\\varphi$ the sequence of draws so far, which may include repetitions. The procedure stats with $\\varphi^{(0)} = \\emptyset$.\n",
        "<br>\n",
        "<br>\n",
        "First, an observation $X_i$ is drawn from a uniform distribution, $i \\sim U[1, I]$, that is, the probability of drawing any particular value $i$ is originally $\\delta_i^{(1)} = I^{-1}$.\n",
        "<br><br>\n",
        "Suppose that we randomly draw a number from ${\\{1, 2, 3\\}}$ and $2$ is selected, $\\varphi^{(1)} = \\{2\\}$, i.e., $X_{2}$ is drawn.\n",
        "<br>\n",
        "<br>\n",
        "For the second draw, we **wish to reduce the probability of drawing an observation $X_{j}$ with a highly overlapping outcome**. Remember, a bootstrap allows sampling with repetition, so it is still possible to draw $X_{2}$ again, but we wish to reduce its likelihood, since there is an overlap between $X_2$ and itself.\n",
        "<br>\n",
        "<br>\n",
        "The uniqueness of $j$ at time $t$ is $u_{t, j}^{(2)}=$ ${1_{t, j}} \\over {1+ \\sum_{k \\in {\\varphi^{(1)}}} 1_{t, k} }$, as that is the uniqueness that results from adding alternative $j$'s to the existing sequence of draws $\\varphi^{(1)}$. In this case, the **'new'** uniqueness of $j$ at time point $t$ is $u_{t, j}^{(2)}=$ ${1_{t, j}} \\over {1+1_{t, 2}}$."
      ]
    },
    {
      "cell_type": "markdown",
      "metadata": {
        "id": "pfAPQf1zNKqw",
        "colab_type": "text"
      },
      "source": [
        "The average uniqueness of $j$ is the average $u_{t, j}^{(2)}$ over $j$'s lifespan, \n",
        "$$\n",
        "\\bar{u}_{j}^{(2)}= {{\\sum_{t=1}^{T}u_{t, j}^{(2)}} \\over {\\sum_{t=1}^{T}1_{t, j}}}.\n",
        "$$"
      ]
    },
    {
      "cell_type": "markdown",
      "metadata": {
        "id": "aGc1cQpHOdF3",
        "colab_type": "text"
      },
      "source": [
        "We can now make a second draw based on the updated probabilities \n",
        "$\n",
        "\\left\\{\n",
        "    \\delta_j^{(2)}\n",
        "\\right\\}_{j=1,...,I}\n",
        "$,<br>\n",
        "$$\n",
        "\\delta_j^{(2)} = { {\\bar{u}_{j}^{(2)}} \\over {\\sum_{k=1}^{I}\\bar{u}_{k}^{(2)}}},\n",
        "$$<br>\n",
        "where\n",
        "$\n",
        "\\left\\{\n",
        "    \\delta_j^{(2)}\n",
        "\\right\\}_{j=1,...,I}\n",
        "$ are scaled to add up to 1, $\\sum_{j=1}^{I} \\delta_{j}^{(2)} = 1$."
      ]
    },
    {
      "cell_type": "code",
      "metadata": {
        "id": "mBsIFFPdMndR",
        "colab_type": "code",
        "colab": {}
      },
      "source": [
        ""
      ],
      "execution_count": null,
      "outputs": []
    }
  ]
}